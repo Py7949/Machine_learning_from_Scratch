{
 "cells": [
  {
   "cell_type": "code",
   "execution_count": 1,
   "id": "fd5a2339",
   "metadata": {},
   "outputs": [],
   "source": [
    "import pandas as pd"
   ]
  },
  {
   "cell_type": "code",
   "execution_count": 2,
   "id": "c2c3e641",
   "metadata": {},
   "outputs": [],
   "source": [
    "df = pd.read_csv('D:\\Machine learning\\Cross_validation\\placement.csv')"
   ]
  },
  {
   "cell_type": "code",
   "execution_count": 3,
   "id": "ea5fd081",
   "metadata": {},
   "outputs": [
    {
     "data": {
      "text/html": [
       "<div>\n",
       "<style scoped>\n",
       "    .dataframe tbody tr th:only-of-type {\n",
       "        vertical-align: middle;\n",
       "    }\n",
       "\n",
       "    .dataframe tbody tr th {\n",
       "        vertical-align: top;\n",
       "    }\n",
       "\n",
       "    .dataframe thead th {\n",
       "        text-align: right;\n",
       "    }\n",
       "</style>\n",
       "<table border=\"1\" class=\"dataframe\">\n",
       "  <thead>\n",
       "    <tr style=\"text-align: right;\">\n",
       "      <th></th>\n",
       "      <th>cgpa</th>\n",
       "      <th>package</th>\n",
       "    </tr>\n",
       "  </thead>\n",
       "  <tbody>\n",
       "    <tr>\n",
       "      <th>0</th>\n",
       "      <td>6.89</td>\n",
       "      <td>3.26</td>\n",
       "    </tr>\n",
       "    <tr>\n",
       "      <th>1</th>\n",
       "      <td>5.12</td>\n",
       "      <td>1.98</td>\n",
       "    </tr>\n",
       "    <tr>\n",
       "      <th>2</th>\n",
       "      <td>7.82</td>\n",
       "      <td>3.25</td>\n",
       "    </tr>\n",
       "    <tr>\n",
       "      <th>3</th>\n",
       "      <td>7.42</td>\n",
       "      <td>3.67</td>\n",
       "    </tr>\n",
       "    <tr>\n",
       "      <th>4</th>\n",
       "      <td>6.94</td>\n",
       "      <td>3.57</td>\n",
       "    </tr>\n",
       "  </tbody>\n",
       "</table>\n",
       "</div>"
      ],
      "text/plain": [
       "   cgpa  package\n",
       "0  6.89     3.26\n",
       "1  5.12     1.98\n",
       "2  7.82     3.25\n",
       "3  7.42     3.67\n",
       "4  6.94     3.57"
      ]
     },
     "execution_count": 3,
     "metadata": {},
     "output_type": "execute_result"
    }
   ],
   "source": [
    "df.head()"
   ]
  },
  {
   "cell_type": "code",
   "execution_count": 4,
   "id": "30f0fd62",
   "metadata": {},
   "outputs": [],
   "source": [
    "x = df.iloc[:,:-1]\n",
    "y = df.iloc[:,-1]"
   ]
  },
  {
   "cell_type": "code",
   "execution_count": 21,
   "id": "197e66ea",
   "metadata": {},
   "outputs": [],
   "source": [
    "from sklearn.linear_model import LinearRegression\n",
    "from sklearn.model_selection import cross_val_score"
   ]
  },
  {
   "cell_type": "code",
   "execution_count": 26,
   "id": "4a92eef6",
   "metadata": {},
   "outputs": [],
   "source": [
    "p = cross_val_score(LinearRegression(), x, y, cv=KFold(n_splits=10))"
   ]
  },
  {
   "cell_type": "code",
   "execution_count": 27,
   "id": "8136bbed",
   "metadata": {},
   "outputs": [],
   "source": [
    "p.sort()"
   ]
  },
  {
   "cell_type": "code",
   "execution_count": 28,
   "id": "51ff3fc7",
   "metadata": {},
   "outputs": [
    {
     "data": {
      "text/plain": [
       "array([60.48000765, 65.67540106, 67.20523867, 69.890411  , 73.50599138,\n",
       "       74.37616704, 80.3181025 , 82.0986355 , 82.64799643, 83.96333567])"
      ]
     },
     "execution_count": 28,
     "metadata": {},
     "output_type": "execute_result"
    }
   ],
   "source": [
    "p*100"
   ]
  },
  {
   "cell_type": "code",
   "execution_count": 6,
   "id": "ca6e6d5b",
   "metadata": {},
   "outputs": [],
   "source": [
    "new_df = df.head(10)"
   ]
  },
  {
   "cell_type": "code",
   "execution_count": 9,
   "id": "143c3527",
   "metadata": {},
   "outputs": [],
   "source": [
    "x_new = new_df.iloc[:,:-1]\n",
    "y_new = new_df.iloc[:,-1]"
   ]
  },
  {
   "cell_type": "code",
   "execution_count": null,
   "id": "5ae66d18",
   "metadata": {},
   "outputs": [],
   "source": []
  },
  {
   "cell_type": "code",
   "execution_count": null,
   "id": "f0971ce0",
   "metadata": {},
   "outputs": [],
   "source": []
  },
  {
   "cell_type": "code",
   "execution_count": 10,
   "id": "ec04797e",
   "metadata": {},
   "outputs": [],
   "source": [
    "from sklearn.model_selection import LeaveOneOut, LeavePOut, KFold, StratifiedKFold"
   ]
  },
  {
   "cell_type": "code",
   "execution_count": 11,
   "id": "a4a16f8a",
   "metadata": {},
   "outputs": [
    {
     "name": "stdout",
     "output_type": "stream",
     "text": [
      "Train: [1 2 3 4 5 6 7 8 9] Test: [0]\n",
      "Train: [0 2 3 4 5 6 7 8 9] Test: [1]\n",
      "Train: [0 1 3 4 5 6 7 8 9] Test: [2]\n",
      "Train: [0 1 2 4 5 6 7 8 9] Test: [3]\n",
      "Train: [0 1 2 3 5 6 7 8 9] Test: [4]\n",
      "Train: [0 1 2 3 4 6 7 8 9] Test: [5]\n",
      "Train: [0 1 2 3 4 5 7 8 9] Test: [6]\n",
      "Train: [0 1 2 3 4 5 6 8 9] Test: [7]\n",
      "Train: [0 1 2 3 4 5 6 7 9] Test: [8]\n",
      "Train: [0 1 2 3 4 5 6 7 8] Test: [9]\n"
     ]
    }
   ],
   "source": [
    "lo = LeaveOneOut()\n",
    "\n",
    "for train, test in lo.split(x_new,y_new):\n",
    "    print(\"Train:\", train, \"Test:\", test)"
   ]
  },
  {
   "cell_type": "code",
   "execution_count": 15,
   "id": "c663c170",
   "metadata": {},
   "outputs": [
    {
     "name": "stdout",
     "output_type": "stream",
     "text": [
      "Train: [2 3 4 5 6 7 8 9] Test: [0 1]\n",
      "Train: [1 3 4 5 6 7 8 9] Test: [0 2]\n",
      "Train: [1 2 4 5 6 7 8 9] Test: [0 3]\n",
      "Train: [1 2 3 5 6 7 8 9] Test: [0 4]\n",
      "Train: [1 2 3 4 6 7 8 9] Test: [0 5]\n",
      "Train: [1 2 3 4 5 7 8 9] Test: [0 6]\n",
      "Train: [1 2 3 4 5 6 8 9] Test: [0 7]\n",
      "Train: [1 2 3 4 5 6 7 9] Test: [0 8]\n",
      "Train: [1 2 3 4 5 6 7 8] Test: [0 9]\n",
      "Train: [0 3 4 5 6 7 8 9] Test: [1 2]\n",
      "Train: [0 2 4 5 6 7 8 9] Test: [1 3]\n",
      "Train: [0 2 3 5 6 7 8 9] Test: [1 4]\n",
      "Train: [0 2 3 4 6 7 8 9] Test: [1 5]\n",
      "Train: [0 2 3 4 5 7 8 9] Test: [1 6]\n",
      "Train: [0 2 3 4 5 6 8 9] Test: [1 7]\n",
      "Train: [0 2 3 4 5 6 7 9] Test: [1 8]\n",
      "Train: [0 2 3 4 5 6 7 8] Test: [1 9]\n",
      "Train: [0 1 4 5 6 7 8 9] Test: [2 3]\n",
      "Train: [0 1 3 5 6 7 8 9] Test: [2 4]\n",
      "Train: [0 1 3 4 6 7 8 9] Test: [2 5]\n",
      "Train: [0 1 3 4 5 7 8 9] Test: [2 6]\n",
      "Train: [0 1 3 4 5 6 8 9] Test: [2 7]\n",
      "Train: [0 1 3 4 5 6 7 9] Test: [2 8]\n",
      "Train: [0 1 3 4 5 6 7 8] Test: [2 9]\n",
      "Train: [0 1 2 5 6 7 8 9] Test: [3 4]\n",
      "Train: [0 1 2 4 6 7 8 9] Test: [3 5]\n",
      "Train: [0 1 2 4 5 7 8 9] Test: [3 6]\n",
      "Train: [0 1 2 4 5 6 8 9] Test: [3 7]\n",
      "Train: [0 1 2 4 5 6 7 9] Test: [3 8]\n",
      "Train: [0 1 2 4 5 6 7 8] Test: [3 9]\n",
      "Train: [0 1 2 3 6 7 8 9] Test: [4 5]\n",
      "Train: [0 1 2 3 5 7 8 9] Test: [4 6]\n",
      "Train: [0 1 2 3 5 6 8 9] Test: [4 7]\n",
      "Train: [0 1 2 3 5 6 7 9] Test: [4 8]\n",
      "Train: [0 1 2 3 5 6 7 8] Test: [4 9]\n",
      "Train: [0 1 2 3 4 7 8 9] Test: [5 6]\n",
      "Train: [0 1 2 3 4 6 8 9] Test: [5 7]\n",
      "Train: [0 1 2 3 4 6 7 9] Test: [5 8]\n",
      "Train: [0 1 2 3 4 6 7 8] Test: [5 9]\n",
      "Train: [0 1 2 3 4 5 8 9] Test: [6 7]\n",
      "Train: [0 1 2 3 4 5 7 9] Test: [6 8]\n",
      "Train: [0 1 2 3 4 5 7 8] Test: [6 9]\n",
      "Train: [0 1 2 3 4 5 6 9] Test: [7 8]\n",
      "Train: [0 1 2 3 4 5 6 8] Test: [7 9]\n",
      "Train: [0 1 2 3 4 5 6 7] Test: [8 9]\n"
     ]
    }
   ],
   "source": [
    "lpo = LeavePOut(p=2)\n",
    "\n",
    "for train, test in lpo.split(x_new,y_new):\n",
    "    print(\"Train:\", train, \"Test:\", test)"
   ]
  },
  {
   "cell_type": "code",
   "execution_count": 16,
   "id": "287ec40a",
   "metadata": {},
   "outputs": [
    {
     "name": "stdout",
     "output_type": "stream",
     "text": [
      "Train: [2 3 4 5 6 7 8 9] Test: [0 1]\n",
      "Train: [0 1 4 5 6 7 8 9] Test: [2 3]\n",
      "Train: [0 1 2 3 6 7 8 9] Test: [4 5]\n",
      "Train: [0 1 2 3 4 5 8 9] Test: [6 7]\n",
      "Train: [0 1 2 3 4 5 6 7] Test: [8 9]\n"
     ]
    }
   ],
   "source": [
    "kf = KFold(n_splits=5)\n",
    "for train, test in kf.split(x_new,y_new):\n",
    "    print(\"Train:\", train, \"Test:\", test)"
   ]
  },
  {
   "cell_type": "code",
   "execution_count": 19,
   "id": "9165757e",
   "metadata": {},
   "outputs": [
    {
     "name": "stdout",
     "output_type": "stream",
     "text": [
      "Train: [4 5 7 8 9] Test: [0 1 2 3 6]\n",
      "Train: [0 1 2 3 6] Test: [4 5 7 8 9]\n"
     ]
    }
   ],
   "source": [
    "# Bin the continuous target into categories for stratification\n",
    "y_new_binned = pd.qcut(y_new, q=5, labels=False)\n",
    "\n",
    "# Find the minimum class count\n",
    "min_class_count = y_new_binned.value_counts().min()\n",
    "\n",
    "# Set n_splits to the minimum class count (must be at least 2)\n",
    "n_splits = max(2, min_class_count)\n",
    "\n",
    "skf = StratifiedKFold(n_splits=n_splits)\n",
    "for train, test in skf.split(x_new, y_new_binned):\n",
    "    print(\"Train:\", train, \"Test:\", test)"
   ]
  },
  {
   "cell_type": "code",
   "execution_count": null,
   "id": "39d0288e",
   "metadata": {},
   "outputs": [],
   "source": []
  },
  {
   "cell_type": "code",
   "execution_count": null,
   "id": "978773fe",
   "metadata": {},
   "outputs": [],
   "source": []
  }
 ],
 "metadata": {
  "kernelspec": {
   "display_name": "tf-env",
   "language": "python",
   "name": "python3"
  },
  "language_info": {
   "codemirror_mode": {
    "name": "ipython",
    "version": 3
   },
   "file_extension": ".py",
   "mimetype": "text/x-python",
   "name": "python",
   "nbconvert_exporter": "python",
   "pygments_lexer": "ipython3",
   "version": "3.10.11"
  }
 },
 "nbformat": 4,
 "nbformat_minor": 5
}
