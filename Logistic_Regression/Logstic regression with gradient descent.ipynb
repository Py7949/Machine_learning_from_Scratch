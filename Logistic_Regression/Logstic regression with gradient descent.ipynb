{
 "cells": [
  {
   "cell_type": "code",
   "execution_count": 3,
   "id": "c09f128f",
   "metadata": {},
   "outputs": [],
   "source": [
    "import pandas as pd\n",
    "import numpy as np\n",
    "import matplotlib.pyplot as plt\n",
    "import seaborn as sns\n",
    "from sklearn.datasets import load_breast_cancer"
   ]
  },
  {
   "cell_type": "code",
   "execution_count": 4,
   "id": "af47bfe9",
   "metadata": {},
   "outputs": [],
   "source": [
    "data = load_breast_cancer()\n",
    "x= data.data\n",
    "y= data.target"
   ]
  },
  {
   "cell_type": "code",
   "execution_count": 5,
   "id": "ff890445",
   "metadata": {},
   "outputs": [],
   "source": [
    "from sklearn.preprocessing import StandardScaler\n",
    "from sklearn.model_selection import train_test_split"
   ]
  },
  {
   "cell_type": "code",
   "execution_count": 6,
   "id": "535fdedc",
   "metadata": {},
   "outputs": [],
   "source": [
    "Scaler = StandardScaler()\n",
    "x = Scaler.fit_transform(x)"
   ]
  },
  {
   "cell_type": "code",
   "execution_count": 29,
   "id": "87abf572",
   "metadata": {},
   "outputs": [],
   "source": [
    "x_train, x_test, y_train, y_test = train_test_split(x, y, test_size=0.2, random_state=42)"
   ]
  },
  {
   "cell_type": "code",
   "execution_count": 30,
   "id": "190473b7",
   "metadata": {},
   "outputs": [
    {
     "data": {
      "text/plain": [
       "30"
      ]
     },
     "execution_count": 30,
     "metadata": {},
     "output_type": "execute_result"
    }
   ],
   "source": [
    "x_train.shape[1]"
   ]
  },
  {
   "cell_type": "code",
   "execution_count": 31,
   "id": "d0902622",
   "metadata": {},
   "outputs": [],
   "source": [
    "weights = np.zeros(x_train.shape[1])\n",
    "bias = 0"
   ]
  },
  {
   "cell_type": "code",
   "execution_count": 32,
   "id": "9d1d5ef6",
   "metadata": {},
   "outputs": [],
   "source": [
    "def sigmoid(z):\n",
    "    return 1 / (1 + np.exp(-z))"
   ]
  },
  {
   "cell_type": "code",
   "execution_count": 33,
   "id": "23785f20",
   "metadata": {},
   "outputs": [],
   "source": [
    "def compute(x, y, weights, bias):\n",
    "    m = len(y)\n",
    "    predictions = sigmoid(np.dot(x,weights) + bias)\n",
    "    cost = -(1/m) *np.sum(y * np.log(predictions) + (1 - y) *np.log(1 - predictions))\n",
    "    cost"
   ]
  },
  {
   "cell_type": "code",
   "execution_count": 34,
   "id": "eec83f54",
   "metadata": {},
   "outputs": [],
   "source": [
    "def compute_gradients(x, y, prdictions):\n",
    "    m = x.shape[0]\n",
    "    dz = predictions - y\n",
    "\n",
    "    \n",
    "    dw = (1/m) * np.dot(x.T, dz)\n",
    "    db = (1/m) * np.sum(dz)\n",
    "    \n",
    "    return dw, db"
   ]
  },
  {
   "cell_type": "code",
   "execution_count": 35,
   "id": "a9ad888c",
   "metadata": {},
   "outputs": [],
   "source": [
    "def update_parameters(weights, bias, dw, db, learning_rate):\n",
    "\n",
    "    weights -= learning_rate * dw\n",
    "    bias -= learning_rate * db\n",
    "    return weights, bias"
   ]
  },
  {
   "cell_type": "code",
   "execution_count": 36,
   "id": "9de0bd72",
   "metadata": {},
   "outputs": [
    {
     "ename": "NameError",
     "evalue": "name 'compute_cost' is not defined",
     "output_type": "error",
     "traceback": [
      "\u001b[31m---------------------------------------------------------------------------\u001b[39m",
      "\u001b[31mNameError\u001b[39m                                 Traceback (most recent call last)",
      "\u001b[36mCell\u001b[39m\u001b[36m \u001b[39m\u001b[32mIn[36]\u001b[39m\u001b[32m, line 19\u001b[39m\n\u001b[32m     16\u001b[39m             \u001b[38;5;28mprint\u001b[39m(\u001b[33mf\u001b[39m\u001b[33m'\u001b[39m\u001b[33mCost after iteration \u001b[39m\u001b[38;5;132;01m{\u001b[39;00mi\u001b[38;5;132;01m}\u001b[39;00m\u001b[33m: \u001b[39m\u001b[38;5;132;01m{\u001b[39;00mcost\u001b[38;5;132;01m:\u001b[39;00m\u001b[33m.4f\u001b[39m\u001b[38;5;132;01m}\u001b[39;00m\u001b[33m'\u001b[39m)\n\u001b[32m     17\u001b[39m     \u001b[38;5;28;01mreturn\u001b[39;00m weights, bias, cost_history\n\u001b[32m---> \u001b[39m\u001b[32m19\u001b[39m weights, bias, _ = \u001b[43mtrain\u001b[49m\u001b[43m(\u001b[49m\u001b[43mx_train\u001b[49m\u001b[43m,\u001b[49m\u001b[43m \u001b[49m\u001b[43my_train\u001b[49m\u001b[43m,\u001b[49m\u001b[43m \u001b[49m\u001b[43mweights\u001b[49m\u001b[43m,\u001b[49m\u001b[43m \u001b[49m\u001b[43mbias\u001b[49m\u001b[43m,\u001b[49m\u001b[43m \u001b[49m\u001b[32;43m0.01\u001b[39;49m\u001b[43m,\u001b[49m\u001b[43m \u001b[49m\u001b[32;43m1000\u001b[39;49m\u001b[43m)\u001b[49m\n",
      "\u001b[36mCell\u001b[39m\u001b[36m \u001b[39m\u001b[32mIn[36]\u001b[39m\u001b[32m, line 8\u001b[39m, in \u001b[36mtrain\u001b[39m\u001b[34m(x, y, weights, bias, learning_rate, iterations)\u001b[39m\n\u001b[32m      5\u001b[39m \u001b[38;5;28;01mfor\u001b[39;00m i \u001b[38;5;129;01min\u001b[39;00m \u001b[38;5;28mrange\u001b[39m(iterations):\n\u001b[32m      7\u001b[39m     predictions = sigmoid(np.dot(x, weights) + bias)\n\u001b[32m----> \u001b[39m\u001b[32m8\u001b[39m     cost = \u001b[43mcompute_cost\u001b[49m(x, y, weights, bias)  \u001b[38;5;66;03m# Fixed function name\u001b[39;00m\n\u001b[32m     10\u001b[39m     dw, db = compute_gradients(x, y, predictions)\n\u001b[32m     12\u001b[39m     weights, bias = update_parameters(weights, bias, dw, db, learning_rate)\n",
      "\u001b[31mNameError\u001b[39m: name 'compute_cost' is not defined"
     ]
    }
   ],
   "source": [
    "def train(x, y, weights, bias, learning_rate, iterations):\n",
    "\n",
    "    cost_history = []\n",
    "\n",
    "    for i in range(iterations):\n",
    "\n",
    "        predictions = sigmoid(np.dot(x, weights) + bias)\n",
    "        cost = compute_cost(x, y, weights, bias)  # Fixed function name\n",
    "\n",
    "        dw, db = compute_gradients(x, y, predictions)\n",
    "\n",
    "        weights, bias = update_parameters(weights, bias, dw, db, learning_rate)\n",
    "\n",
    "        if i % 100 == 0:\n",
    "            cost_history.append(cost)\n",
    "            print(f'Cost after iteration {i}: {cost:.4f}')\n",
    "    return weights, bias, cost_history\n",
    "\n",
    "weights, bias, _ = train(x_train, y_train, weights, bias, 0.01, 1000)\n"
   ]
  },
  {
   "cell_type": "code",
   "execution_count": null,
   "id": "8b083bc5",
   "metadata": {},
   "outputs": [],
   "source": []
  }
 ],
 "metadata": {
  "kernelspec": {
   "display_name": "Python 3",
   "language": "python",
   "name": "python3"
  },
  "language_info": {
   "codemirror_mode": {
    "name": "ipython",
    "version": 3
   },
   "file_extension": ".py",
   "mimetype": "text/x-python",
   "name": "python",
   "nbconvert_exporter": "python",
   "pygments_lexer": "ipython3",
   "version": "3.13.5"
  }
 },
 "nbformat": 4,
 "nbformat_minor": 5
}
